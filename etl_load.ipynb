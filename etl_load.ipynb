{
 "cells": [
  {
   "cell_type": "markdown",
   "id": "a9408401",
   "metadata": {},
   "source": [
    "## LOAD"
   ]
  },
  {
   "cell_type": "code",
   "execution_count": null,
   "id": "8ef1fddf",
   "metadata": {},
   "outputs": [],
   "source": [
    "# Section 1\n",
    "\n",
    "import pandas as pd\n",
    "\n",
    "# Define file paths\n",
    "full_csv_path = 'transformed_full.csv'\n",
    "inc_csv_path = 'transformed_incremental.csv'\n",
    "full_parquet_path = 'loaded_data/full_data.parquet'\n",
    "inc_parquet_path = 'loaded_data/incremental_data.parquet'\n",
    "\n",
    "#Section 2\n",
    "\n",
    "# Load full transformed CSV into DataFrame\n",
    "full_df = pd.read_csv(full_csv_path)\n",
    "\n",
    "# Save DataFrame as Parquet file\n",
    "full_df.to_parquet(full_parquet_path, index=False)\n",
    "\n",
    "print(f\"✅ Full transformed data saved as Parquet at: {full_parquet_path}\")\n",
    "\n",
    "\n",
    "# Section 3: Load Incremental Transformed Data\n",
    "\n",
    "# Load incremental transformed CSV into DataFrame\n",
    "inc_df = pd.read_csv(inc_csv_path)\n",
    "\n",
    "# Save DataFrame as Parquet file\n",
    "inc_df.to_parquet(inc_parquet_path, index=False)\n",
    "\n",
    "print(f\"✅ Incremental transformed data saved as Parquet at: {inc_parquet_path}\")\n",
    "\n",
    "# Section 4: Verification\n",
    "\n",
    "\n",
    "# Read back the Parquet files and preview\n",
    "print(\"\\n🔎 Preview from full_data.parquet:\")\n",
    "print(pd.read_parquet(full_parquet_path).head())\n",
    "\n",
    "print(\"\\n🔎 Preview from incremental_data.parquet:\")\n",
    "print(pd.read_parquet(incremental_parquet_path).head())\n"
   ]
  }
 ],
 "metadata": {
  "kernelspec": {
   "display_name": "Python 3",
   "language": "python",
   "name": "python3"
  },
  "language_info": {
   "name": "python",
   "version": "3.13.5"
  }
 },
 "nbformat": 4,
 "nbformat_minor": 5
}
